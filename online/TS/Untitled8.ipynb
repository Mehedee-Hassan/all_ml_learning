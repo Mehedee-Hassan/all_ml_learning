{
 "cells": [
  {
   "cell_type": "code",
   "execution_count": 1,
   "metadata": {},
   "outputs": [],
   "source": [
    "import pandas as pd\n",
    "import numpy as np\n",
    "\n",
    "%matplotlib inline\n",
    "\n",
    "import warnings\n",
    "warnings.filterwarnings('ignore')\n",
    "\n",
    "data_path = 'C:\\\\Users\\\\mehedee\\\\Documents\\\\data\\\\course\\\\UDEMY_TSA_FINAL\\\\Data\\\\'\n",
    "df1 = pd.read_csv(data_path+'airline_passengers.csv',index_col='Month',parse_dates=True)\n",
    "# index_col='Date',parse_dates=True\n",
    "df1.index.freq ='MS'\n",
    "\n",
    "df2 = pd.read_csv(data_path+'DailyTotalFemaleBirths.csv',index_col='Date',parse_dates=True)\n",
    "df2.index.freq = 'D'"
   ]
  },
  {
   "cell_type": "code",
   "execution_count": 2,
   "metadata": {},
   "outputs": [],
   "source": [
    "from statsmodels.tsa.stattools import adfuller\n",
    "\n",
    "def adf_test(series,title=''):\n",
    "    \"\"\"\n",
    "    Pass in a time series and an optional title, returns an ADF report\n",
    "    \"\"\"\n",
    "    print(f'Augmented Dickey-Fuller Test: {title}')\n",
    "    result = adfuller(series.dropna(),autolag='AIC') # .dropna() handles differenced data\n",
    "    \n",
    "    labels = ['ADF test statistic','p-value','# lags used','# observations']\n",
    "    out = pd.Series(result[0:4],index=labels)\n",
    "\n",
    "    for key,val in result[4].items():\n",
    "        out[f'critical value ({key})']=val\n",
    "        \n",
    "    print(out.to_string())          # .to_string() removes the line \"dtype: float64\"\n",
    "    \n",
    "    if result[1] <= 0.05:\n",
    "        print(\"Strong evidence against the null hypothesis\")\n",
    "        print(\"Reject the null hypothesis\")\n",
    "        print(\"Data has no unit root and is stationary\")\n",
    "    else:\n",
    "        print(\"Weak evidence against the null hypothesis\")\n",
    "        print(\"Fail to reject the null hypothesis\")\n",
    "        print(\"Data has a unit root and is non-stationary\")"
   ]
  },
  {
   "cell_type": "code",
   "execution_count": 3,
   "metadata": {},
   "outputs": [],
   "source": [
    "df = pd.read_csv(data_path+'co2_mm_mlo.csv')"
   ]
  },
  {
   "cell_type": "code",
   "execution_count": 4,
   "metadata": {},
   "outputs": [
    {
     "data": {
      "text/html": [
       "<div>\n",
       "<style scoped>\n",
       "    .dataframe tbody tr th:only-of-type {\n",
       "        vertical-align: middle;\n",
       "    }\n",
       "\n",
       "    .dataframe tbody tr th {\n",
       "        vertical-align: top;\n",
       "    }\n",
       "\n",
       "    .dataframe thead th {\n",
       "        text-align: right;\n",
       "    }\n",
       "</style>\n",
       "<table border=\"1\" class=\"dataframe\">\n",
       "  <thead>\n",
       "    <tr style=\"text-align: right;\">\n",
       "      <th></th>\n",
       "      <th>year</th>\n",
       "      <th>month</th>\n",
       "      <th>decimal_date</th>\n",
       "      <th>average</th>\n",
       "      <th>interpolated</th>\n",
       "    </tr>\n",
       "  </thead>\n",
       "  <tbody>\n",
       "    <tr>\n",
       "      <th>0</th>\n",
       "      <td>1958</td>\n",
       "      <td>3</td>\n",
       "      <td>1958.208</td>\n",
       "      <td>315.71</td>\n",
       "      <td>315.71</td>\n",
       "    </tr>\n",
       "    <tr>\n",
       "      <th>1</th>\n",
       "      <td>1958</td>\n",
       "      <td>4</td>\n",
       "      <td>1958.292</td>\n",
       "      <td>317.45</td>\n",
       "      <td>317.45</td>\n",
       "    </tr>\n",
       "    <tr>\n",
       "      <th>2</th>\n",
       "      <td>1958</td>\n",
       "      <td>5</td>\n",
       "      <td>1958.375</td>\n",
       "      <td>317.50</td>\n",
       "      <td>317.50</td>\n",
       "    </tr>\n",
       "    <tr>\n",
       "      <th>3</th>\n",
       "      <td>1958</td>\n",
       "      <td>6</td>\n",
       "      <td>1958.458</td>\n",
       "      <td>NaN</td>\n",
       "      <td>317.10</td>\n",
       "    </tr>\n",
       "    <tr>\n",
       "      <th>4</th>\n",
       "      <td>1958</td>\n",
       "      <td>7</td>\n",
       "      <td>1958.542</td>\n",
       "      <td>315.86</td>\n",
       "      <td>315.86</td>\n",
       "    </tr>\n",
       "  </tbody>\n",
       "</table>\n",
       "</div>"
      ],
      "text/plain": [
       "   year  month  decimal_date  average  interpolated\n",
       "0  1958      3      1958.208   315.71        315.71\n",
       "1  1958      4      1958.292   317.45        317.45\n",
       "2  1958      5      1958.375   317.50        317.50\n",
       "3  1958      6      1958.458      NaN        317.10\n",
       "4  1958      7      1958.542   315.86        315.86"
      ]
     },
     "execution_count": 4,
     "metadata": {},
     "output_type": "execute_result"
    }
   ],
   "source": [
    "df.head()"
   ]
  },
  {
   "cell_type": "code",
   "execution_count": 6,
   "metadata": {},
   "outputs": [],
   "source": [
    "df['date'] = pd.to_datetime({'year':df['year'],'month':df['month'],'day':1})"
   ]
  },
  {
   "cell_type": "code",
   "execution_count": 7,
   "metadata": {},
   "outputs": [
    {
     "data": {
      "text/plain": [
       "0     1958-03-01\n",
       "1     1958-04-01\n",
       "2     1958-05-01\n",
       "3     1958-06-01\n",
       "4     1958-07-01\n",
       "         ...    \n",
       "724   2018-07-01\n",
       "725   2018-08-01\n",
       "726   2018-09-01\n",
       "727   2018-10-01\n",
       "728   2018-11-01\n",
       "Name: date, Length: 729, dtype: datetime64[ns]"
      ]
     },
     "execution_count": 7,
     "metadata": {},
     "output_type": "execute_result"
    }
   ],
   "source": [
    "df['date']"
   ]
  },
  {
   "cell_type": "code",
   "execution_count": 8,
   "metadata": {},
   "outputs": [
    {
     "name": "stdout",
     "output_type": "stream",
     "text": [
      "<class 'pandas.core.frame.DataFrame'>\n",
      "RangeIndex: 729 entries, 0 to 728\n",
      "Data columns (total 6 columns):\n",
      " #   Column        Non-Null Count  Dtype         \n",
      "---  ------        --------------  -----         \n",
      " 0   year          729 non-null    int64         \n",
      " 1   month         729 non-null    int64         \n",
      " 2   decimal_date  729 non-null    float64       \n",
      " 3   average       722 non-null    float64       \n",
      " 4   interpolated  729 non-null    float64       \n",
      " 5   date          729 non-null    datetime64[ns]\n",
      "dtypes: datetime64[ns](1), float64(3), int64(2)\n",
      "memory usage: 34.3 KB\n"
     ]
    }
   ],
   "source": [
    "df.info()"
   ]
  },
  {
   "cell_type": "code",
   "execution_count": 9,
   "metadata": {},
   "outputs": [],
   "source": [
    "df = df.set_index('date')"
   ]
  },
  {
   "cell_type": "code",
   "execution_count": 10,
   "metadata": {},
   "outputs": [
    {
     "data": {
      "text/html": [
       "<div>\n",
       "<style scoped>\n",
       "    .dataframe tbody tr th:only-of-type {\n",
       "        vertical-align: middle;\n",
       "    }\n",
       "\n",
       "    .dataframe tbody tr th {\n",
       "        vertical-align: top;\n",
       "    }\n",
       "\n",
       "    .dataframe thead th {\n",
       "        text-align: right;\n",
       "    }\n",
       "</style>\n",
       "<table border=\"1\" class=\"dataframe\">\n",
       "  <thead>\n",
       "    <tr style=\"text-align: right;\">\n",
       "      <th></th>\n",
       "      <th>year</th>\n",
       "      <th>month</th>\n",
       "      <th>decimal_date</th>\n",
       "      <th>average</th>\n",
       "      <th>interpolated</th>\n",
       "    </tr>\n",
       "    <tr>\n",
       "      <th>date</th>\n",
       "      <th></th>\n",
       "      <th></th>\n",
       "      <th></th>\n",
       "      <th></th>\n",
       "      <th></th>\n",
       "    </tr>\n",
       "  </thead>\n",
       "  <tbody>\n",
       "    <tr>\n",
       "      <th>1958-03-01</th>\n",
       "      <td>1958</td>\n",
       "      <td>3</td>\n",
       "      <td>1958.208</td>\n",
       "      <td>315.71</td>\n",
       "      <td>315.71</td>\n",
       "    </tr>\n",
       "    <tr>\n",
       "      <th>1958-04-01</th>\n",
       "      <td>1958</td>\n",
       "      <td>4</td>\n",
       "      <td>1958.292</td>\n",
       "      <td>317.45</td>\n",
       "      <td>317.45</td>\n",
       "    </tr>\n",
       "    <tr>\n",
       "      <th>1958-05-01</th>\n",
       "      <td>1958</td>\n",
       "      <td>5</td>\n",
       "      <td>1958.375</td>\n",
       "      <td>317.50</td>\n",
       "      <td>317.50</td>\n",
       "    </tr>\n",
       "    <tr>\n",
       "      <th>1958-06-01</th>\n",
       "      <td>1958</td>\n",
       "      <td>6</td>\n",
       "      <td>1958.458</td>\n",
       "      <td>NaN</td>\n",
       "      <td>317.10</td>\n",
       "    </tr>\n",
       "    <tr>\n",
       "      <th>1958-07-01</th>\n",
       "      <td>1958</td>\n",
       "      <td>7</td>\n",
       "      <td>1958.542</td>\n",
       "      <td>315.86</td>\n",
       "      <td>315.86</td>\n",
       "    </tr>\n",
       "  </tbody>\n",
       "</table>\n",
       "</div>"
      ],
      "text/plain": [
       "            year  month  decimal_date  average  interpolated\n",
       "date                                                        \n",
       "1958-03-01  1958      3      1958.208   315.71        315.71\n",
       "1958-04-01  1958      4      1958.292   317.45        317.45\n",
       "1958-05-01  1958      5      1958.375   317.50        317.50\n",
       "1958-06-01  1958      6      1958.458      NaN        317.10\n",
       "1958-07-01  1958      7      1958.542   315.86        315.86"
      ]
     },
     "execution_count": 10,
     "metadata": {},
     "output_type": "execute_result"
    }
   ],
   "source": [
    "df.head()"
   ]
  },
  {
   "cell_type": "code",
   "execution_count": 12,
   "metadata": {},
   "outputs": [],
   "source": [
    "df.index.freq = 'MS'"
   ]
  },
  {
   "cell_type": "code",
   "execution_count": 13,
   "metadata": {},
   "outputs": [
    {
     "data": {
      "text/plain": [
       "<matplotlib.axes._subplots.AxesSubplot at 0x208061804c8>"
      ]
     },
     "execution_count": 13,
     "metadata": {},
     "output_type": "execute_result"
    },
    {
     "data": {
      "image/png": "[encoded data removed]",
      "text/plain": [
       "<Figure size 432x288 with 1 Axes>"
      ]
     },
     "metadata": {
      "needs_background": "light"
     },
     "output_type": "display_data"
    }
   ],
   "source": [
    "df['interpolated'].plot()"
   ]
  },
  {
   "cell_type": "code",
   "execution_count": 16,
   "metadata": {},
   "outputs": [],
   "source": [
    "from statsmodels.tsa.seasonal import seasonal_decompose"
   ]
  },
  {
   "cell_type": "code",
   "execution_count": 18,
   "metadata": {},
   "outputs": [
    {
     "data": {
      "image/png": "[encoded data removed]",
      "text/plain": [
       "<Figure size 432x288 with 4 Axes>"
      ]
     },
     "metadata": {
      "needs_background": "light"
     },
     "output_type": "display_data"
    }
   ],
   "source": [
    "result = seasonal_decompose(df['interpolated'],model='add')\n",
    "result.plot();"
   ]
  },
  {
   "cell_type": "code",
   "execution_count": null,
   "metadata": {},
   "outputs": [],
   "source": [
    "auto_arima(df['interpolated'],seasonal=True,m=12)"
   ]
  },
  {
   "cell_type": "code",
   "execution_count": 20,
   "metadata": {},
   "outputs": [],
   "source": [
    "\n",
    "train = df.iloc[:717]"
   ]
  },
  {
   "cell_type": "code",
   "execution_count": 21,
   "metadata": {},
   "outputs": [],
   "source": [
    "test = df.iloc[717:]"
   ]
  },
  {
   "cell_type": "code",
   "execution_count": 22,
   "metadata": {},
   "outputs": [],
   "source": [
    "import pandas as pd"
   ]
  },
  {
   "cell_type": "code",
   "execution_count": 23,
   "metadata": {},
   "outputs": [],
   "source": [
    "from fbprophet import Prophet\n"
   ]
  },
  {
   "cell_type": "code",
   "execution_count": 26,
   "metadata": {},
   "outputs": [],
   "source": [
    "df = pd.read_csv(data_path+'BeerWineLiquor.csv')"
   ]
  },
  {
   "cell_type": "code",
   "execution_count": 27,
   "metadata": {},
   "outputs": [
    {
     "data": {
      "text/html": [
       "<div>\n",
       "<style scoped>\n",
       "    .dataframe tbody tr th:only-of-type {\n",
       "        vertical-align: middle;\n",
       "    }\n",
       "\n",
       "    .dataframe tbody tr th {\n",
       "        vertical-align: top;\n",
       "    }\n",
       "\n",
       "    .dataframe thead th {\n",
       "        text-align: right;\n",
       "    }\n",
       "</style>\n",
       "<table border=\"1\" class=\"dataframe\">\n",
       "  <thead>\n",
       "    <tr style=\"text-align: right;\">\n",
       "      <th></th>\n",
       "      <th>date</th>\n",
       "      <th>beer</th>\n",
       "    </tr>\n",
       "  </thead>\n",
       "  <tbody>\n",
       "    <tr>\n",
       "      <th>0</th>\n",
       "      <td>1/1/1992</td>\n",
       "      <td>1509</td>\n",
       "    </tr>\n",
       "    <tr>\n",
       "      <th>1</th>\n",
       "      <td>2/1/1992</td>\n",
       "      <td>1541</td>\n",
       "    </tr>\n",
       "    <tr>\n",
       "      <th>2</th>\n",
       "      <td>3/1/1992</td>\n",
       "      <td>1597</td>\n",
       "    </tr>\n",
       "    <tr>\n",
       "      <th>3</th>\n",
       "      <td>4/1/1992</td>\n",
       "      <td>1675</td>\n",
       "    </tr>\n",
       "    <tr>\n",
       "      <th>4</th>\n",
       "      <td>5/1/1992</td>\n",
       "      <td>1822</td>\n",
       "    </tr>\n",
       "  </tbody>\n",
       "</table>\n",
       "</div>"
      ],
      "text/plain": [
       "       date  beer\n",
       "0  1/1/1992  1509\n",
       "1  2/1/1992  1541\n",
       "2  3/1/1992  1597\n",
       "3  4/1/1992  1675\n",
       "4  5/1/1992  1822"
      ]
     },
     "execution_count": 27,
     "metadata": {},
     "output_type": "execute_result"
    }
   ],
   "source": [
    "df.head()"
   ]
  },
  {
   "cell_type": "code",
   "execution_count": 28,
   "metadata": {},
   "outputs": [
    {
     "name": "stdout",
     "output_type": "stream",
     "text": [
      "<class 'pandas.core.frame.DataFrame'>\n",
      "RangeIndex: 324 entries, 0 to 323\n",
      "Data columns (total 2 columns):\n",
      " #   Column  Non-Null Count  Dtype \n",
      "---  ------  --------------  ----- \n",
      " 0   date    324 non-null    object\n",
      " 1   beer    324 non-null    int64 \n",
      "dtypes: int64(1), object(1)\n",
      "memory usage: 5.2+ KB\n"
     ]
    }
   ],
   "source": [
    "df.info()"
   ]
  },
  {
   "cell_type": "code",
   "execution_count": 29,
   "metadata": {},
   "outputs": [],
   "source": [
    "df.columns = ['ds','y']"
   ]
  },
  {
   "cell_type": "code",
   "execution_count": 30,
   "metadata": {},
   "outputs": [
    {
     "data": {
      "text/html": [
       "<div>\n",
       "<style scoped>\n",
       "    .dataframe tbody tr th:only-of-type {\n",
       "        vertical-align: middle;\n",
       "    }\n",
       "\n",
       "    .dataframe tbody tr th {\n",
       "        vertical-align: top;\n",
       "    }\n",
       "\n",
       "    .dataframe thead th {\n",
       "        text-align: right;\n",
       "    }\n",
       "</style>\n",
       "<table border=\"1\" class=\"dataframe\">\n",
       "  <thead>\n",
       "    <tr style=\"text-align: right;\">\n",
       "      <th></th>\n",
       "      <th>ds</th>\n",
       "      <th>y</th>\n",
       "    </tr>\n",
       "  </thead>\n",
       "  <tbody>\n",
       "    <tr>\n",
       "      <th>0</th>\n",
       "      <td>1/1/1992</td>\n",
       "      <td>1509</td>\n",
       "    </tr>\n",
       "    <tr>\n",
       "      <th>1</th>\n",
       "      <td>2/1/1992</td>\n",
       "      <td>1541</td>\n",
       "    </tr>\n",
       "    <tr>\n",
       "      <th>2</th>\n",
       "      <td>3/1/1992</td>\n",
       "      <td>1597</td>\n",
       "    </tr>\n",
       "    <tr>\n",
       "      <th>3</th>\n",
       "      <td>4/1/1992</td>\n",
       "      <td>1675</td>\n",
       "    </tr>\n",
       "    <tr>\n",
       "      <th>4</th>\n",
       "      <td>5/1/1992</td>\n",
       "      <td>1822</td>\n",
       "    </tr>\n",
       "  </tbody>\n",
       "</table>\n",
       "</div>"
      ],
      "text/plain": [
       "         ds     y\n",
       "0  1/1/1992  1509\n",
       "1  2/1/1992  1541\n",
       "2  3/1/1992  1597\n",
       "3  4/1/1992  1675\n",
       "4  5/1/1992  1822"
      ]
     },
     "execution_count": 30,
     "metadata": {},
     "output_type": "execute_result"
    }
   ],
   "source": [
    "df.head()"
   ]
  },
  {
   "cell_type": "code",
   "execution_count": 31,
   "metadata": {},
   "outputs": [],
   "source": [
    "df['ds'] = pd.to_datetime(df['ds'])"
   ]
  },
  {
   "cell_type": "code",
   "execution_count": 32,
   "metadata": {},
   "outputs": [
    {
     "data": {
      "text/html": [
       "<div>\n",
       "<style scoped>\n",
       "    .dataframe tbody tr th:only-of-type {\n",
       "        vertical-align: middle;\n",
       "    }\n",
       "\n",
       "    .dataframe tbody tr th {\n",
       "        vertical-align: top;\n",
       "    }\n",
       "\n",
       "    .dataframe thead th {\n",
       "        text-align: right;\n",
       "    }\n",
       "</style>\n",
       "<table border=\"1\" class=\"dataframe\">\n",
       "  <thead>\n",
       "    <tr style=\"text-align: right;\">\n",
       "      <th></th>\n",
       "      <th>ds</th>\n",
       "      <th>y</th>\n",
       "    </tr>\n",
       "  </thead>\n",
       "  <tbody>\n",
       "    <tr>\n",
       "      <th>0</th>\n",
       "      <td>1992-01-01</td>\n",
       "      <td>1509</td>\n",
       "    </tr>\n",
       "    <tr>\n",
       "      <th>1</th>\n",
       "      <td>1992-02-01</td>\n",
       "      <td>1541</td>\n",
       "    </tr>\n",
       "    <tr>\n",
       "      <th>2</th>\n",
       "      <td>1992-03-01</td>\n",
       "      <td>1597</td>\n",
       "    </tr>\n",
       "    <tr>\n",
       "      <th>3</th>\n",
       "      <td>1992-04-01</td>\n",
       "      <td>1675</td>\n",
       "    </tr>\n",
       "    <tr>\n",
       "      <th>4</th>\n",
       "      <td>1992-05-01</td>\n",
       "      <td>1822</td>\n",
       "    </tr>\n",
       "  </tbody>\n",
       "</table>\n",
       "</div>"
      ],
      "text/plain": [
       "          ds     y\n",
       "0 1992-01-01  1509\n",
       "1 1992-02-01  1541\n",
       "2 1992-03-01  1597\n",
       "3 1992-04-01  1675\n",
       "4 1992-05-01  1822"
      ]
     },
     "execution_count": 32,
     "metadata": {},
     "output_type": "execute_result"
    }
   ],
   "source": [
    "df.head()"
   ]
  },
  {
   "cell_type": "code",
   "execution_count": 33,
   "metadata": {},
   "outputs": [
    {
     "name": "stdout",
     "output_type": "stream",
     "text": [
      "<class 'pandas.core.frame.DataFrame'>\n",
      "RangeIndex: 324 entries, 0 to 323\n",
      "Data columns (total 2 columns):\n",
      " #   Column  Non-Null Count  Dtype         \n",
      "---  ------  --------------  -----         \n",
      " 0   ds      324 non-null    datetime64[ns]\n",
      " 1   y       324 non-null    int64         \n",
      "dtypes: datetime64[ns](1), int64(1)\n",
      "memory usage: 5.2 KB\n"
     ]
    }
   ],
   "source": [
    "df.info()"
   ]
  },
  {
   "cell_type": "code",
   "execution_count": 35,
   "metadata": {},
   "outputs": [
    {
     "name": "stderr",
     "output_type": "stream",
     "text": [
      "INFO:fbprophet:Disabling weekly seasonality. Run prophet with weekly_seasonality=True to override this.\n",
      "INFO:fbprophet:Disabling daily seasonality. Run prophet with daily_seasonality=True to override this.\n"
     ]
    },
    {
     "data": {
      "text/plain": [
       "<fbprophet.forecaster.Prophet at 0x2080972fe08>"
      ]
     },
     "execution_count": 35,
     "metadata": {},
     "output_type": "execute_result"
    }
   ],
   "source": [
    "m = Prophet()\n",
    "\n",
    "m.fit(df)"
   ]
  },
  {
   "cell_type": "code",
   "execution_count": 36,
   "metadata": {},
   "outputs": [],
   "source": [
    "future = m.make_future_dataframe(periods = 24, freq = 'MS')"
   ]
  },
  {
   "cell_type": "code",
   "execution_count": 37,
   "metadata": {},
   "outputs": [
    {
     "data": {
      "text/html": [
       "<div>\n",
       "<style scoped>\n",
       "    .dataframe tbody tr th:only-of-type {\n",
       "        vertical-align: middle;\n",
       "    }\n",
       "\n",
       "    .dataframe tbody tr th {\n",
       "        vertical-align: top;\n",
       "    }\n",
       "\n",
       "    .dataframe thead th {\n",
       "        text-align: right;\n",
       "    }\n",
       "</style>\n",
       "<table border=\"1\" class=\"dataframe\">\n",
       "  <thead>\n",
       "    <tr style=\"text-align: right;\">\n",
       "      <th></th>\n",
       "      <th>ds</th>\n",
       "    </tr>\n",
       "  </thead>\n",
       "  <tbody>\n",
       "    <tr>\n",
       "      <th>0</th>\n",
       "      <td>1992-01-01</td>\n",
       "    </tr>\n",
       "    <tr>\n",
       "      <th>1</th>\n",
       "      <td>1992-02-01</td>\n",
       "    </tr>\n",
       "    <tr>\n",
       "      <th>2</th>\n",
       "      <td>1992-03-01</td>\n",
       "    </tr>\n",
       "    <tr>\n",
       "      <th>3</th>\n",
       "      <td>1992-04-01</td>\n",
       "    </tr>\n",
       "    <tr>\n",
       "      <th>4</th>\n",
       "      <td>1992-05-01</td>\n",
       "    </tr>\n",
       "    <tr>\n",
       "      <th>...</th>\n",
       "      <td>...</td>\n",
       "    </tr>\n",
       "    <tr>\n",
       "      <th>343</th>\n",
       "      <td>2020-08-01</td>\n",
       "    </tr>\n",
       "    <tr>\n",
       "      <th>344</th>\n",
       "      <td>2020-09-01</td>\n",
       "    </tr>\n",
       "    <tr>\n",
       "      <th>345</th>\n",
       "      <td>2020-10-01</td>\n",
       "    </tr>\n",
       "    <tr>\n",
       "      <th>346</th>\n",
       "      <td>2020-11-01</td>\n",
       "    </tr>\n",
       "    <tr>\n",
       "      <th>347</th>\n",
       "      <td>2020-12-01</td>\n",
       "    </tr>\n",
       "  </tbody>\n",
       "</table>\n",
       "<p>348 rows × 1 columns</p>\n",
       "</div>"
      ],
      "text/plain": [
       "            ds\n",
       "0   1992-01-01\n",
       "1   1992-02-01\n",
       "2   1992-03-01\n",
       "3   1992-04-01\n",
       "4   1992-05-01\n",
       "..         ...\n",
       "343 2020-08-01\n",
       "344 2020-09-01\n",
       "345 2020-10-01\n",
       "346 2020-11-01\n",
       "347 2020-12-01\n",
       "\n",
       "[348 rows x 1 columns]"
      ]
     },
     "execution_count": 37,
     "metadata": {},
     "output_type": "execute_result"
    }
   ],
   "source": [
    "future"
   ]
  },
  {
   "cell_type": "code",
   "execution_count": 38,
   "metadata": {},
   "outputs": [
    {
     "data": {
      "text/html": [
       "<div>\n",
       "<style scoped>\n",
       "    .dataframe tbody tr th:only-of-type {\n",
       "        vertical-align: middle;\n",
       "    }\n",
       "\n",
       "    .dataframe tbody tr th {\n",
       "        vertical-align: top;\n",
       "    }\n",
       "\n",
       "    .dataframe thead th {\n",
       "        text-align: right;\n",
       "    }\n",
       "</style>\n",
       "<table border=\"1\" class=\"dataframe\">\n",
       "  <thead>\n",
       "    <tr style=\"text-align: right;\">\n",
       "      <th></th>\n",
       "      <th>ds</th>\n",
       "    </tr>\n",
       "  </thead>\n",
       "  <tbody>\n",
       "    <tr>\n",
       "      <th>343</th>\n",
       "      <td>2020-08-01</td>\n",
       "    </tr>\n",
       "    <tr>\n",
       "      <th>344</th>\n",
       "      <td>2020-09-01</td>\n",
       "    </tr>\n",
       "    <tr>\n",
       "      <th>345</th>\n",
       "      <td>2020-10-01</td>\n",
       "    </tr>\n",
       "    <tr>\n",
       "      <th>346</th>\n",
       "      <td>2020-11-01</td>\n",
       "    </tr>\n",
       "    <tr>\n",
       "      <th>347</th>\n",
       "      <td>2020-12-01</td>\n",
       "    </tr>\n",
       "  </tbody>\n",
       "</table>\n",
       "</div>"
      ],
      "text/plain": [
       "            ds\n",
       "343 2020-08-01\n",
       "344 2020-09-01\n",
       "345 2020-10-01\n",
       "346 2020-11-01\n",
       "347 2020-12-01"
      ]
     },
     "execution_count": 38,
     "metadata": {},
     "output_type": "execute_result"
    }
   ],
   "source": [
    "future.tail()"
   ]
  },
  {
   "cell_type": "code",
   "execution_count": 39,
   "metadata": {},
   "outputs": [
    {
     "data": {
      "text/html": [
       "<div>\n",
       "<style scoped>\n",
       "    .dataframe tbody tr th:only-of-type {\n",
       "        vertical-align: middle;\n",
       "    }\n",
       "\n",
       "    .dataframe tbody tr th {\n",
       "        vertical-align: top;\n",
       "    }\n",
       "\n",
       "    .dataframe thead th {\n",
       "        text-align: right;\n",
       "    }\n",
       "</style>\n",
       "<table border=\"1\" class=\"dataframe\">\n",
       "  <thead>\n",
       "    <tr style=\"text-align: right;\">\n",
       "      <th></th>\n",
       "      <th>ds</th>\n",
       "      <th>y</th>\n",
       "    </tr>\n",
       "  </thead>\n",
       "  <tbody>\n",
       "    <tr>\n",
       "      <th>319</th>\n",
       "      <td>2018-08-01</td>\n",
       "      <td>4898</td>\n",
       "    </tr>\n",
       "    <tr>\n",
       "      <th>320</th>\n",
       "      <td>2018-09-01</td>\n",
       "      <td>4598</td>\n",
       "    </tr>\n",
       "    <tr>\n",
       "      <th>321</th>\n",
       "      <td>2018-10-01</td>\n",
       "      <td>4737</td>\n",
       "    </tr>\n",
       "    <tr>\n",
       "      <th>322</th>\n",
       "      <td>2018-11-01</td>\n",
       "      <td>5130</td>\n",
       "    </tr>\n",
       "    <tr>\n",
       "      <th>323</th>\n",
       "      <td>2018-12-01</td>\n",
       "      <td>6370</td>\n",
       "    </tr>\n",
       "  </tbody>\n",
       "</table>\n",
       "</div>"
      ],
      "text/plain": [
       "            ds     y\n",
       "319 2018-08-01  4898\n",
       "320 2018-09-01  4598\n",
       "321 2018-10-01  4737\n",
       "322 2018-11-01  5130\n",
       "323 2018-12-01  6370"
      ]
     },
     "execution_count": 39,
     "metadata": {},
     "output_type": "execute_result"
    }
   ],
   "source": [
    "df.tail()"
   ]
  },
  {
   "cell_type": "code",
   "execution_count": 40,
   "metadata": {},
   "outputs": [
    {
     "data": {
      "text/plain": [
       "324"
      ]
     },
     "execution_count": 40,
     "metadata": {},
     "output_type": "execute_result"
    }
   ],
   "source": [
    "len(df)"
   ]
  },
  {
   "cell_type": "code",
   "execution_count": 41,
   "metadata": {},
   "outputs": [
    {
     "data": {
      "text/plain": [
       "348"
      ]
     },
     "execution_count": 41,
     "metadata": {},
     "output_type": "execute_result"
    }
   ],
   "source": [
    "len(future)"
   ]
  },
  {
   "cell_type": "code",
   "execution_count": 42,
   "metadata": {},
   "outputs": [],
   "source": [
    "forecast = m.predict(future)"
   ]
  },
  {
   "cell_type": "code",
   "execution_count": 43,
   "metadata": {},
   "outputs": [
    {
     "data": {
      "text/html": [
       "<div>\n",
       "<style scoped>\n",
       "    .dataframe tbody tr th:only-of-type {\n",
       "        vertical-align: middle;\n",
       "    }\n",
       "\n",
       "    .dataframe tbody tr th {\n",
       "        vertical-align: top;\n",
       "    }\n",
       "\n",
       "    .dataframe thead th {\n",
       "        text-align: right;\n",
       "    }\n",
       "</style>\n",
       "<table border=\"1\" class=\"dataframe\">\n",
       "  <thead>\n",
       "    <tr style=\"text-align: right;\">\n",
       "      <th></th>\n",
       "      <th>ds</th>\n",
       "      <th>trend</th>\n",
       "      <th>yhat_lower</th>\n",
       "      <th>yhat_upper</th>\n",
       "      <th>trend_lower</th>\n",
       "      <th>trend_upper</th>\n",
       "      <th>additive_terms</th>\n",
       "      <th>additive_terms_lower</th>\n",
       "      <th>additive_terms_upper</th>\n",
       "      <th>yearly</th>\n",
       "      <th>yearly_lower</th>\n",
       "      <th>yearly_upper</th>\n",
       "      <th>multiplicative_terms</th>\n",
       "      <th>multiplicative_terms_lower</th>\n",
       "      <th>multiplicative_terms_upper</th>\n",
       "      <th>yhat</th>\n",
       "    </tr>\n",
       "  </thead>\n",
       "  <tbody>\n",
       "    <tr>\n",
       "      <th>0</th>\n",
       "      <td>1992-01-01</td>\n",
       "      <td>1771.312291</td>\n",
       "      <td>1137.782032</td>\n",
       "      <td>1471.759458</td>\n",
       "      <td>1771.312291</td>\n",
       "      <td>1771.312291</td>\n",
       "      <td>-461.653037</td>\n",
       "      <td>-461.653037</td>\n",
       "      <td>-461.653037</td>\n",
       "      <td>-461.653037</td>\n",
       "      <td>-461.653037</td>\n",
       "      <td>-461.653037</td>\n",
       "      <td>0.0</td>\n",
       "      <td>0.0</td>\n",
       "      <td>0.0</td>\n",
       "      <td>1309.659254</td>\n",
       "    </tr>\n",
       "    <tr>\n",
       "      <th>1</th>\n",
       "      <td>1992-02-01</td>\n",
       "      <td>1774.175336</td>\n",
       "      <td>1187.475765</td>\n",
       "      <td>1510.988582</td>\n",
       "      <td>1774.175336</td>\n",
       "      <td>1774.175336</td>\n",
       "      <td>-427.115870</td>\n",
       "      <td>-427.115870</td>\n",
       "      <td>-427.115870</td>\n",
       "      <td>-427.115870</td>\n",
       "      <td>-427.115870</td>\n",
       "      <td>-427.115870</td>\n",
       "      <td>0.0</td>\n",
       "      <td>0.0</td>\n",
       "      <td>0.0</td>\n",
       "      <td>1347.059466</td>\n",
       "    </tr>\n",
       "    <tr>\n",
       "      <th>2</th>\n",
       "      <td>1992-03-01</td>\n",
       "      <td>1776.853668</td>\n",
       "      <td>1441.767138</td>\n",
       "      <td>1761.551559</td>\n",
       "      <td>1776.853668</td>\n",
       "      <td>1776.853668</td>\n",
       "      <td>-178.790756</td>\n",
       "      <td>-178.790756</td>\n",
       "      <td>-178.790756</td>\n",
       "      <td>-178.790756</td>\n",
       "      <td>-178.790756</td>\n",
       "      <td>-178.790756</td>\n",
       "      <td>0.0</td>\n",
       "      <td>0.0</td>\n",
       "      <td>0.0</td>\n",
       "      <td>1598.062912</td>\n",
       "    </tr>\n",
       "    <tr>\n",
       "      <th>3</th>\n",
       "      <td>1992-04-01</td>\n",
       "      <td>1779.716713</td>\n",
       "      <td>1419.619766</td>\n",
       "      <td>1732.485830</td>\n",
       "      <td>1779.716713</td>\n",
       "      <td>1779.716713</td>\n",
       "      <td>-196.311692</td>\n",
       "      <td>-196.311692</td>\n",
       "      <td>-196.311692</td>\n",
       "      <td>-196.311692</td>\n",
       "      <td>-196.311692</td>\n",
       "      <td>-196.311692</td>\n",
       "      <td>0.0</td>\n",
       "      <td>0.0</td>\n",
       "      <td>0.0</td>\n",
       "      <td>1583.405020</td>\n",
       "    </tr>\n",
       "    <tr>\n",
       "      <th>4</th>\n",
       "      <td>1992-05-01</td>\n",
       "      <td>1782.487401</td>\n",
       "      <td>1675.786512</td>\n",
       "      <td>1991.122179</td>\n",
       "      <td>1782.487401</td>\n",
       "      <td>1782.487401</td>\n",
       "      <td>44.675263</td>\n",
       "      <td>44.675263</td>\n",
       "      <td>44.675263</td>\n",
       "      <td>44.675263</td>\n",
       "      <td>44.675263</td>\n",
       "      <td>44.675263</td>\n",
       "      <td>0.0</td>\n",
       "      <td>0.0</td>\n",
       "      <td>0.0</td>\n",
       "      <td>1827.162664</td>\n",
       "    </tr>\n",
       "    <tr>\n",
       "      <th>...</th>\n",
       "      <td>...</td>\n",
       "      <td>...</td>\n",
       "      <td>...</td>\n",
       "      <td>...</td>\n",
       "      <td>...</td>\n",
       "      <td>...</td>\n",
       "      <td>...</td>\n",
       "      <td>...</td>\n",
       "      <td>...</td>\n",
       "      <td>...</td>\n",
       "      <td>...</td>\n",
       "      <td>...</td>\n",
       "      <td>...</td>\n",
       "      <td>...</td>\n",
       "      <td>...</td>\n",
       "      <td>...</td>\n",
       "    </tr>\n",
       "    <tr>\n",
       "      <th>343</th>\n",
       "      <td>2020-08-01</td>\n",
       "      <td>5200.823239</td>\n",
       "      <td>5090.044299</td>\n",
       "      <td>5405.791090</td>\n",
       "      <td>5188.161719</td>\n",
       "      <td>5211.944763</td>\n",
       "      <td>39.703050</td>\n",
       "      <td>39.703050</td>\n",
       "      <td>39.703050</td>\n",
       "      <td>39.703050</td>\n",
       "      <td>39.703050</td>\n",
       "      <td>39.703050</td>\n",
       "      <td>0.0</td>\n",
       "      <td>0.0</td>\n",
       "      <td>0.0</td>\n",
       "      <td>5240.526290</td>\n",
       "    </tr>\n",
       "    <tr>\n",
       "      <th>344</th>\n",
       "      <td>2020-09-01</td>\n",
       "      <td>5216.882602</td>\n",
       "      <td>4919.704313</td>\n",
       "      <td>5248.290841</td>\n",
       "      <td>5203.048379</td>\n",
       "      <td>5229.195437</td>\n",
       "      <td>-133.367528</td>\n",
       "      <td>-133.367528</td>\n",
       "      <td>-133.367528</td>\n",
       "      <td>-133.367528</td>\n",
       "      <td>-133.367528</td>\n",
       "      <td>-133.367528</td>\n",
       "      <td>0.0</td>\n",
       "      <td>0.0</td>\n",
       "      <td>0.0</td>\n",
       "      <td>5083.515075</td>\n",
       "    </tr>\n",
       "    <tr>\n",
       "      <th>345</th>\n",
       "      <td>2020-10-01</td>\n",
       "      <td>5232.423922</td>\n",
       "      <td>5024.790424</td>\n",
       "      <td>5361.570369</td>\n",
       "      <td>5217.560138</td>\n",
       "      <td>5245.803186</td>\n",
       "      <td>-43.400195</td>\n",
       "      <td>-43.400195</td>\n",
       "      <td>-43.400195</td>\n",
       "      <td>-43.400195</td>\n",
       "      <td>-43.400195</td>\n",
       "      <td>-43.400195</td>\n",
       "      <td>0.0</td>\n",
       "      <td>0.0</td>\n",
       "      <td>0.0</td>\n",
       "      <td>5189.023726</td>\n",
       "    </tr>\n",
       "    <tr>\n",
       "      <th>346</th>\n",
       "      <td>2020-11-01</td>\n",
       "      <td>5248.483285</td>\n",
       "      <td>5161.857203</td>\n",
       "      <td>5500.899169</td>\n",
       "      <td>5232.923914</td>\n",
       "      <td>5262.914545</td>\n",
       "      <td>86.835312</td>\n",
       "      <td>86.835312</td>\n",
       "      <td>86.835312</td>\n",
       "      <td>86.835312</td>\n",
       "      <td>86.835312</td>\n",
       "      <td>86.835312</td>\n",
       "      <td>0.0</td>\n",
       "      <td>0.0</td>\n",
       "      <td>0.0</td>\n",
       "      <td>5335.318596</td>\n",
       "    </tr>\n",
       "    <tr>\n",
       "      <th>347</th>\n",
       "      <td>2020-12-01</td>\n",
       "      <td>5264.024604</td>\n",
       "      <td>6172.823186</td>\n",
       "      <td>6506.129335</td>\n",
       "      <td>5247.406626</td>\n",
       "      <td>5279.426879</td>\n",
       "      <td>1071.135334</td>\n",
       "      <td>1071.135334</td>\n",
       "      <td>1071.135334</td>\n",
       "      <td>1071.135334</td>\n",
       "      <td>1071.135334</td>\n",
       "      <td>1071.135334</td>\n",
       "      <td>0.0</td>\n",
       "      <td>0.0</td>\n",
       "      <td>0.0</td>\n",
       "      <td>6335.159938</td>\n",
       "    </tr>\n",
       "  </tbody>\n",
       "</table>\n",
       "<p>348 rows × 16 columns</p>\n",
       "</div>"
      ],
      "text/plain": [
       "            ds        trend   yhat_lower   yhat_upper  trend_lower  \\\n",
       "0   1992-01-01  1771.312291  1137.782032  1471.759458  1771.312291   \n",
       "1   1992-02-01  1774.175336  1187.475765  1510.988582  1774.175336   \n",
       "2   1992-03-01  1776.853668  1441.767138  1761.551559  1776.853668   \n",
       "3   1992-04-01  1779.716713  1419.619766  1732.485830  1779.716713   \n",
       "4   1992-05-01  1782.487401  1675.786512  1991.122179  1782.487401   \n",
       "..         ...          ...          ...          ...          ...   \n",
       "343 2020-08-01  5200.823239  5090.044299  5405.791090  5188.161719   \n",
       "344 2020-09-01  5216.882602  4919.704313  5248.290841  5203.048379   \n",
       "345 2020-10-01  5232.423922  5024.790424  5361.570369  5217.560138   \n",
       "346 2020-11-01  5248.483285  5161.857203  5500.899169  5232.923914   \n",
       "347 2020-12-01  5264.024604  6172.823186  6506.129335  5247.406626   \n",
       "\n",
       "     trend_upper  additive_terms  additive_terms_lower  additive_terms_upper  \\\n",
       "0    1771.312291     -461.653037           -461.653037           -461.653037   \n",
       "1    1774.175336     -427.115870           -427.115870           -427.115870   \n",
       "2    1776.853668     -178.790756           -178.790756           -178.790756   \n",
       "3    1779.716713     -196.311692           -196.311692           -196.311692   \n",
       "4    1782.487401       44.675263             44.675263             44.675263   \n",
       "..           ...             ...                   ...                   ...   \n",
       "343  5211.944763       39.703050             39.703050             39.703050   \n",
       "344  5229.195437     -133.367528           -133.367528           -133.367528   \n",
       "345  5245.803186      -43.400195            -43.400195            -43.400195   \n",
       "346  5262.914545       86.835312             86.835312             86.835312   \n",
       "347  5279.426879     1071.135334           1071.135334           1071.135334   \n",
       "\n",
       "          yearly  yearly_lower  yearly_upper  multiplicative_terms  \\\n",
       "0    -461.653037   -461.653037   -461.653037                   0.0   \n",
       "1    -427.115870   -427.115870   -427.115870                   0.0   \n",
       "2    -178.790756   -178.790756   -178.790756                   0.0   \n",
       "3    -196.311692   -196.311692   -196.311692                   0.0   \n",
       "4      44.675263     44.675263     44.675263                   0.0   \n",
       "..           ...           ...           ...                   ...   \n",
       "343    39.703050     39.703050     39.703050                   0.0   \n",
       "344  -133.367528   -133.367528   -133.367528                   0.0   \n",
       "345   -43.400195    -43.400195    -43.400195                   0.0   \n",
       "346    86.835312     86.835312     86.835312                   0.0   \n",
       "347  1071.135334   1071.135334   1071.135334                   0.0   \n",
       "\n",
       "     multiplicative_terms_lower  multiplicative_terms_upper         yhat  \n",
       "0                           0.0                         0.0  1309.659254  \n",
       "1                           0.0                         0.0  1347.059466  \n",
       "2                           0.0                         0.0  1598.062912  \n",
       "3                           0.0                         0.0  1583.405020  \n",
       "4                           0.0                         0.0  1827.162664  \n",
       "..                          ...                         ...          ...  \n",
       "343                         0.0                         0.0  5240.526290  \n",
       "344                         0.0                         0.0  5083.515075  \n",
       "345                         0.0                         0.0  5189.023726  \n",
       "346                         0.0                         0.0  5335.318596  \n",
       "347                         0.0                         0.0  6335.159938  \n",
       "\n",
       "[348 rows x 16 columns]"
      ]
     },
     "execution_count": 43,
     "metadata": {},
     "output_type": "execute_result"
    }
   ],
   "source": [
    "forecast"
   ]
  },
  {
   "cell_type": "code",
   "execution_count": 133,
   "metadata": {},
   "outputs": [],
   "source": [
    "datapath2 = 'C:\\\\Users\\\\mehedee\\\\Documents\\\\data\\\\office_projects\\\\product_count_prediction\\\\tenpo01\\\\poduct_sale\\\\' "
   ]
  },
  {
   "cell_type": "code",
   "execution_count": 134,
   "metadata": {},
   "outputs": [],
   "source": [
    "datafile = 'sale_4538151297025.csv'"
   ]
  },
  {
   "cell_type": "code",
   "execution_count": 135,
   "metadata": {},
   "outputs": [],
   "source": [
    "df2 = pd.read_csv(datapath2 + datafile)"
   ]
  },
  {
   "cell_type": "code",
   "execution_count": 136,
   "metadata": {},
   "outputs": [
    {
     "data": {
      "text/html": [
       "<div>\n",
       "<style scoped>\n",
       "    .dataframe tbody tr th:only-of-type {\n",
       "        vertical-align: middle;\n",
       "    }\n",
       "\n",
       "    .dataframe tbody tr th {\n",
       "        vertical-align: top;\n",
       "    }\n",
       "\n",
       "    .dataframe thead th {\n",
       "        text-align: right;\n",
       "    }\n",
       "</style>\n",
       "<table border=\"1\" class=\"dataframe\">\n",
       "  <thead>\n",
       "    <tr style=\"text-align: right;\">\n",
       "      <th></th>\n",
       "      <th>date</th>\n",
       "      <th>count</th>\n",
       "      <th>money</th>\n",
       "    </tr>\n",
       "  </thead>\n",
       "  <tbody>\n",
       "    <tr>\n",
       "      <th>0</th>\n",
       "      <td>2016/7/21</td>\n",
       "      <td>3</td>\n",
       "      <td>594</td>\n",
       "    </tr>\n",
       "    <tr>\n",
       "      <th>1</th>\n",
       "      <td>2016/7/22</td>\n",
       "      <td>17</td>\n",
       "      <td>3366</td>\n",
       "    </tr>\n",
       "    <tr>\n",
       "      <th>2</th>\n",
       "      <td>2016/7/23</td>\n",
       "      <td>199</td>\n",
       "      <td>18126</td>\n",
       "    </tr>\n",
       "    <tr>\n",
       "      <th>3</th>\n",
       "      <td>2016/7/24</td>\n",
       "      <td>19</td>\n",
       "      <td>3762</td>\n",
       "    </tr>\n",
       "    <tr>\n",
       "      <th>4</th>\n",
       "      <td>2016/7/25</td>\n",
       "      <td>14</td>\n",
       "      <td>2772</td>\n",
       "    </tr>\n",
       "  </tbody>\n",
       "</table>\n",
       "</div>"
      ],
      "text/plain": [
       "        date  count  money\n",
       "0  2016/7/21      3    594\n",
       "1  2016/7/22     17   3366\n",
       "2  2016/7/23    199  18126\n",
       "3  2016/7/24     19   3762\n",
       "4  2016/7/25     14   2772"
      ]
     },
     "execution_count": 136,
     "metadata": {},
     "output_type": "execute_result"
    }
   ],
   "source": [
    "df2.head()"
   ]
  },
  {
   "cell_type": "code",
   "execution_count": 137,
   "metadata": {},
   "outputs": [],
   "source": [
    "df2 = df2[730:]"
   ]
  },
  {
   "cell_type": "code",
   "execution_count": 138,
   "metadata": {},
   "outputs": [],
   "source": [
    "df2=df2.drop('money',axis=1)"
   ]
  },
  {
   "cell_type": "code",
   "execution_count": 139,
   "metadata": {},
   "outputs": [],
   "source": [
    "df2.columns = ['ds','y']"
   ]
  },
  {
   "cell_type": "code",
   "execution_count": 140,
   "metadata": {},
   "outputs": [
    {
     "data": {
      "text/html": [
       "<div>\n",
       "<style scoped>\n",
       "    .dataframe tbody tr th:only-of-type {\n",
       "        vertical-align: middle;\n",
       "    }\n",
       "\n",
       "    .dataframe tbody tr th {\n",
       "        vertical-align: top;\n",
       "    }\n",
       "\n",
       "    .dataframe thead th {\n",
       "        text-align: right;\n",
       "    }\n",
       "</style>\n",
       "<table border=\"1\" class=\"dataframe\">\n",
       "  <thead>\n",
       "    <tr style=\"text-align: right;\">\n",
       "      <th></th>\n",
       "      <th>ds</th>\n",
       "      <th>y</th>\n",
       "    </tr>\n",
       "  </thead>\n",
       "  <tbody>\n",
       "    <tr>\n",
       "      <th>730</th>\n",
       "      <td>2018/7/23</td>\n",
       "      <td>26</td>\n",
       "    </tr>\n",
       "    <tr>\n",
       "      <th>731</th>\n",
       "      <td>2018/7/24</td>\n",
       "      <td>323</td>\n",
       "    </tr>\n",
       "    <tr>\n",
       "      <th>732</th>\n",
       "      <td>2018/7/25</td>\n",
       "      <td>86</td>\n",
       "    </tr>\n",
       "    <tr>\n",
       "      <th>733</th>\n",
       "      <td>2018/7/26</td>\n",
       "      <td>160</td>\n",
       "    </tr>\n",
       "    <tr>\n",
       "      <th>734</th>\n",
       "      <td>2018/7/27</td>\n",
       "      <td>7</td>\n",
       "    </tr>\n",
       "  </tbody>\n",
       "</table>\n",
       "</div>"
      ],
      "text/plain": [
       "            ds    y\n",
       "730  2018/7/23   26\n",
       "731  2018/7/24  323\n",
       "732  2018/7/25   86\n",
       "733  2018/7/26  160\n",
       "734  2018/7/27    7"
      ]
     },
     "execution_count": 140,
     "metadata": {},
     "output_type": "execute_result"
    }
   ],
   "source": [
    "df2.head()"
   ]
  },
  {
   "cell_type": "code",
   "execution_count": 141,
   "metadata": {},
   "outputs": [],
   "source": [
    "df2['ds'] = pd.to_datetime(df2['ds'])"
   ]
  },
  {
   "cell_type": "code",
   "execution_count": 142,
   "metadata": {},
   "outputs": [
    {
     "name": "stdout",
     "output_type": "stream",
     "text": [
      "<class 'pandas.core.frame.DataFrame'>\n",
      "RangeIndex: 610 entries, 730 to 1339\n",
      "Data columns (total 2 columns):\n",
      " #   Column  Non-Null Count  Dtype         \n",
      "---  ------  --------------  -----         \n",
      " 0   ds      610 non-null    datetime64[ns]\n",
      " 1   y       610 non-null    int64         \n",
      "dtypes: datetime64[ns](1), int64(1)\n",
      "memory usage: 9.7 KB\n"
     ]
    }
   ],
   "source": [
    "df2.info()"
   ]
  },
  {
   "cell_type": "code",
   "execution_count": 143,
   "metadata": {},
   "outputs": [
    {
     "name": "stderr",
     "output_type": "stream",
     "text": [
      "INFO:fbprophet:Disabling yearly seasonality. Run prophet with yearly_seasonality=True to override this.\n",
      "INFO:fbprophet:Disabling daily seasonality. Run prophet with daily_seasonality=True to override this.\n"
     ]
    },
    {
     "data": {
      "text/plain": [
       "<fbprophet.forecaster.Prophet at 0x20816171648>"
      ]
     },
     "execution_count": 143,
     "metadata": {},
     "output_type": "execute_result"
    }
   ],
   "source": [
    "m = Prophet()\n",
    "\n",
    "m.fit(df2)"
   ]
  },
  {
   "cell_type": "code",
   "execution_count": 144,
   "metadata": {},
   "outputs": [],
   "source": [
    "future = m.make_future_dataframe(periods = 60, freq = 'D')"
   ]
  },
  {
   "cell_type": "code",
   "execution_count": 145,
   "metadata": {},
   "outputs": [
    {
     "data": {
      "text/html": [
       "<div>\n",
       "<style scoped>\n",
       "    .dataframe tbody tr th:only-of-type {\n",
       "        vertical-align: middle;\n",
       "    }\n",
       "\n",
       "    .dataframe tbody tr th {\n",
       "        vertical-align: top;\n",
       "    }\n",
       "\n",
       "    .dataframe thead th {\n",
       "        text-align: right;\n",
       "    }\n",
       "</style>\n",
       "<table border=\"1\" class=\"dataframe\">\n",
       "  <thead>\n",
       "    <tr style=\"text-align: right;\">\n",
       "      <th></th>\n",
       "      <th>ds</th>\n",
       "    </tr>\n",
       "  </thead>\n",
       "  <tbody>\n",
       "    <tr>\n",
       "      <th>0</th>\n",
       "      <td>2018-07-23</td>\n",
       "    </tr>\n",
       "    <tr>\n",
       "      <th>1</th>\n",
       "      <td>2018-07-24</td>\n",
       "    </tr>\n",
       "    <tr>\n",
       "      <th>2</th>\n",
       "      <td>2018-07-25</td>\n",
       "    </tr>\n",
       "    <tr>\n",
       "      <th>3</th>\n",
       "      <td>2018-07-26</td>\n",
       "    </tr>\n",
       "    <tr>\n",
       "      <th>4</th>\n",
       "      <td>2018-07-27</td>\n",
       "    </tr>\n",
       "    <tr>\n",
       "      <th>...</th>\n",
       "      <td>...</td>\n",
       "    </tr>\n",
       "    <tr>\n",
       "      <th>665</th>\n",
       "      <td>2020-06-24</td>\n",
       "    </tr>\n",
       "    <tr>\n",
       "      <th>666</th>\n",
       "      <td>2020-06-25</td>\n",
       "    </tr>\n",
       "    <tr>\n",
       "      <th>667</th>\n",
       "      <td>2020-06-26</td>\n",
       "    </tr>\n",
       "    <tr>\n",
       "      <th>668</th>\n",
       "      <td>2020-06-27</td>\n",
       "    </tr>\n",
       "    <tr>\n",
       "      <th>669</th>\n",
       "      <td>2020-06-28</td>\n",
       "    </tr>\n",
       "  </tbody>\n",
       "</table>\n",
       "<p>670 rows × 1 columns</p>\n",
       "</div>"
      ],
      "text/plain": [
       "            ds\n",
       "0   2018-07-23\n",
       "1   2018-07-24\n",
       "2   2018-07-25\n",
       "3   2018-07-26\n",
       "4   2018-07-27\n",
       "..         ...\n",
       "665 2020-06-24\n",
       "666 2020-06-25\n",
       "667 2020-06-26\n",
       "668 2020-06-27\n",
       "669 2020-06-28\n",
       "\n",
       "[670 rows x 1 columns]"
      ]
     },
     "execution_count": 145,
     "metadata": {},
     "output_type": "execute_result"
    }
   ],
   "source": [
    "future"
   ]
  },
  {
   "cell_type": "code",
   "execution_count": 146,
   "metadata": {},
   "outputs": [
    {
     "data": {
      "text/plain": [
       "(610, 670)"
      ]
     },
     "execution_count": 146,
     "metadata": {},
     "output_type": "execute_result"
    }
   ],
   "source": [
    "len(df2),len(future)"
   ]
  },
  {
   "cell_type": "code",
   "execution_count": 147,
   "metadata": {},
   "outputs": [],
   "source": [
    "forecast = m.predict(future)"
   ]
  },
  {
   "cell_type": "code",
   "execution_count": 148,
   "metadata": {},
   "outputs": [
    {
     "data": {
      "text/html": [
       "<div>\n",
       "<style scoped>\n",
       "    .dataframe tbody tr th:only-of-type {\n",
       "        vertical-align: middle;\n",
       "    }\n",
       "\n",
       "    .dataframe tbody tr th {\n",
       "        vertical-align: top;\n",
       "    }\n",
       "\n",
       "    .dataframe thead th {\n",
       "        text-align: right;\n",
       "    }\n",
       "</style>\n",
       "<table border=\"1\" class=\"dataframe\">\n",
       "  <thead>\n",
       "    <tr style=\"text-align: right;\">\n",
       "      <th></th>\n",
       "      <th>ds</th>\n",
       "      <th>trend</th>\n",
       "      <th>yhat_lower</th>\n",
       "      <th>yhat_upper</th>\n",
       "      <th>trend_lower</th>\n",
       "      <th>trend_upper</th>\n",
       "      <th>additive_terms</th>\n",
       "      <th>additive_terms_lower</th>\n",
       "      <th>additive_terms_upper</th>\n",
       "      <th>weekly</th>\n",
       "      <th>weekly_lower</th>\n",
       "      <th>weekly_upper</th>\n",
       "      <th>multiplicative_terms</th>\n",
       "      <th>multiplicative_terms_lower</th>\n",
       "      <th>multiplicative_terms_upper</th>\n",
       "      <th>yhat</th>\n",
       "    </tr>\n",
       "  </thead>\n",
       "  <tbody>\n",
       "    <tr>\n",
       "      <th>0</th>\n",
       "      <td>2018-07-23</td>\n",
       "      <td>84.972168</td>\n",
       "      <td>-32.804720</td>\n",
       "      <td>117.599609</td>\n",
       "      <td>84.972168</td>\n",
       "      <td>84.972168</td>\n",
       "      <td>-41.141619</td>\n",
       "      <td>-41.141619</td>\n",
       "      <td>-41.141619</td>\n",
       "      <td>-41.141619</td>\n",
       "      <td>-41.141619</td>\n",
       "      <td>-41.141619</td>\n",
       "      <td>0.0</td>\n",
       "      <td>0.0</td>\n",
       "      <td>0.0</td>\n",
       "      <td>43.830549</td>\n",
       "    </tr>\n",
       "    <tr>\n",
       "      <th>1</th>\n",
       "      <td>2018-07-24</td>\n",
       "      <td>84.937551</td>\n",
       "      <td>53.932319</td>\n",
       "      <td>210.970974</td>\n",
       "      <td>84.937551</td>\n",
       "      <td>84.937551</td>\n",
       "      <td>50.084871</td>\n",
       "      <td>50.084871</td>\n",
       "      <td>50.084871</td>\n",
       "      <td>50.084871</td>\n",
       "      <td>50.084871</td>\n",
       "      <td>50.084871</td>\n",
       "      <td>0.0</td>\n",
       "      <td>0.0</td>\n",
       "      <td>0.0</td>\n",
       "      <td>135.022422</td>\n",
       "    </tr>\n",
       "    <tr>\n",
       "      <th>2</th>\n",
       "      <td>2018-07-25</td>\n",
       "      <td>84.902934</td>\n",
       "      <td>-3.663332</td>\n",
       "      <td>157.437188</td>\n",
       "      <td>84.902934</td>\n",
       "      <td>84.902934</td>\n",
       "      <td>-7.007001</td>\n",
       "      <td>-7.007001</td>\n",
       "      <td>-7.007001</td>\n",
       "      <td>-7.007001</td>\n",
       "      <td>-7.007001</td>\n",
       "      <td>-7.007001</td>\n",
       "      <td>0.0</td>\n",
       "      <td>0.0</td>\n",
       "      <td>0.0</td>\n",
       "      <td>77.895933</td>\n",
       "    </tr>\n",
       "    <tr>\n",
       "      <th>3</th>\n",
       "      <td>2018-07-26</td>\n",
       "      <td>84.868317</td>\n",
       "      <td>-37.762229</td>\n",
       "      <td>126.078485</td>\n",
       "      <td>84.868317</td>\n",
       "      <td>84.868317</td>\n",
       "      <td>-38.338190</td>\n",
       "      <td>-38.338190</td>\n",
       "      <td>-38.338190</td>\n",
       "      <td>-38.338190</td>\n",
       "      <td>-38.338190</td>\n",
       "      <td>-38.338190</td>\n",
       "      <td>0.0</td>\n",
       "      <td>0.0</td>\n",
       "      <td>0.0</td>\n",
       "      <td>46.530127</td>\n",
       "    </tr>\n",
       "    <tr>\n",
       "      <th>4</th>\n",
       "      <td>2018-07-27</td>\n",
       "      <td>84.833699</td>\n",
       "      <td>-48.621981</td>\n",
       "      <td>105.508135</td>\n",
       "      <td>84.833699</td>\n",
       "      <td>84.833699</td>\n",
       "      <td>-57.417650</td>\n",
       "      <td>-57.417650</td>\n",
       "      <td>-57.417650</td>\n",
       "      <td>-57.417650</td>\n",
       "      <td>-57.417650</td>\n",
       "      <td>-57.417650</td>\n",
       "      <td>0.0</td>\n",
       "      <td>0.0</td>\n",
       "      <td>0.0</td>\n",
       "      <td>27.416050</td>\n",
       "    </tr>\n",
       "    <tr>\n",
       "      <th>...</th>\n",
       "      <td>...</td>\n",
       "      <td>...</td>\n",
       "      <td>...</td>\n",
       "      <td>...</td>\n",
       "      <td>...</td>\n",
       "      <td>...</td>\n",
       "      <td>...</td>\n",
       "      <td>...</td>\n",
       "      <td>...</td>\n",
       "      <td>...</td>\n",
       "      <td>...</td>\n",
       "      <td>...</td>\n",
       "      <td>...</td>\n",
       "      <td>...</td>\n",
       "      <td>...</td>\n",
       "      <td>...</td>\n",
       "    </tr>\n",
       "    <tr>\n",
       "      <th>665</th>\n",
       "      <td>2020-06-24</td>\n",
       "      <td>77.763453</td>\n",
       "      <td>-11.308545</td>\n",
       "      <td>150.508962</td>\n",
       "      <td>77.639249</td>\n",
       "      <td>77.883140</td>\n",
       "      <td>-7.007001</td>\n",
       "      <td>-7.007001</td>\n",
       "      <td>-7.007001</td>\n",
       "      <td>-7.007001</td>\n",
       "      <td>-7.007001</td>\n",
       "      <td>-7.007001</td>\n",
       "      <td>0.0</td>\n",
       "      <td>0.0</td>\n",
       "      <td>0.0</td>\n",
       "      <td>70.756453</td>\n",
       "    </tr>\n",
       "    <tr>\n",
       "      <th>666</th>\n",
       "      <td>2020-06-25</td>\n",
       "      <td>77.774041</td>\n",
       "      <td>-36.448731</td>\n",
       "      <td>120.530749</td>\n",
       "      <td>77.645949</td>\n",
       "      <td>77.898534</td>\n",
       "      <td>-38.338190</td>\n",
       "      <td>-38.338190</td>\n",
       "      <td>-38.338190</td>\n",
       "      <td>-38.338190</td>\n",
       "      <td>-38.338190</td>\n",
       "      <td>-38.338190</td>\n",
       "      <td>0.0</td>\n",
       "      <td>0.0</td>\n",
       "      <td>0.0</td>\n",
       "      <td>39.435851</td>\n",
       "    </tr>\n",
       "    <tr>\n",
       "      <th>667</th>\n",
       "      <td>2020-06-26</td>\n",
       "      <td>77.784628</td>\n",
       "      <td>-60.777844</td>\n",
       "      <td>94.688356</td>\n",
       "      <td>77.652729</td>\n",
       "      <td>77.914134</td>\n",
       "      <td>-57.417650</td>\n",
       "      <td>-57.417650</td>\n",
       "      <td>-57.417650</td>\n",
       "      <td>-57.417650</td>\n",
       "      <td>-57.417650</td>\n",
       "      <td>-57.417650</td>\n",
       "      <td>0.0</td>\n",
       "      <td>0.0</td>\n",
       "      <td>0.0</td>\n",
       "      <td>20.366978</td>\n",
       "    </tr>\n",
       "    <tr>\n",
       "      <th>668</th>\n",
       "      <td>2020-06-27</td>\n",
       "      <td>77.795215</td>\n",
       "      <td>50.775524</td>\n",
       "      <td>216.752348</td>\n",
       "      <td>77.659596</td>\n",
       "      <td>77.929354</td>\n",
       "      <td>53.517763</td>\n",
       "      <td>53.517763</td>\n",
       "      <td>53.517763</td>\n",
       "      <td>53.517763</td>\n",
       "      <td>53.517763</td>\n",
       "      <td>53.517763</td>\n",
       "      <td>0.0</td>\n",
       "      <td>0.0</td>\n",
       "      <td>0.0</td>\n",
       "      <td>131.312978</td>\n",
       "    </tr>\n",
       "    <tr>\n",
       "      <th>669</th>\n",
       "      <td>2020-06-28</td>\n",
       "      <td>77.805803</td>\n",
       "      <td>36.429630</td>\n",
       "      <td>195.993354</td>\n",
       "      <td>77.667510</td>\n",
       "      <td>77.945121</td>\n",
       "      <td>40.301826</td>\n",
       "      <td>40.301826</td>\n",
       "      <td>40.301826</td>\n",
       "      <td>40.301826</td>\n",
       "      <td>40.301826</td>\n",
       "      <td>40.301826</td>\n",
       "      <td>0.0</td>\n",
       "      <td>0.0</td>\n",
       "      <td>0.0</td>\n",
       "      <td>118.107628</td>\n",
       "    </tr>\n",
       "  </tbody>\n",
       "</table>\n",
       "<p>670 rows × 16 columns</p>\n",
       "</div>"
      ],
      "text/plain": [
       "            ds      trend  yhat_lower  yhat_upper  trend_lower  trend_upper  \\\n",
       "0   2018-07-23  84.972168  -32.804720  117.599609    84.972168    84.972168   \n",
       "1   2018-07-24  84.937551   53.932319  210.970974    84.937551    84.937551   \n",
       "2   2018-07-25  84.902934   -3.663332  157.437188    84.902934    84.902934   \n",
       "3   2018-07-26  84.868317  -37.762229  126.078485    84.868317    84.868317   \n",
       "4   2018-07-27  84.833699  -48.621981  105.508135    84.833699    84.833699   \n",
       "..         ...        ...         ...         ...          ...          ...   \n",
       "665 2020-06-24  77.763453  -11.308545  150.508962    77.639249    77.883140   \n",
       "666 2020-06-25  77.774041  -36.448731  120.530749    77.645949    77.898534   \n",
       "667 2020-06-26  77.784628  -60.777844   94.688356    77.652729    77.914134   \n",
       "668 2020-06-27  77.795215   50.775524  216.752348    77.659596    77.929354   \n",
       "669 2020-06-28  77.805803   36.429630  195.993354    77.667510    77.945121   \n",
       "\n",
       "     additive_terms  additive_terms_lower  additive_terms_upper     weekly  \\\n",
       "0        -41.141619            -41.141619            -41.141619 -41.141619   \n",
       "1         50.084871             50.084871             50.084871  50.084871   \n",
       "2         -7.007001             -7.007001             -7.007001  -7.007001   \n",
       "3        -38.338190            -38.338190            -38.338190 -38.338190   \n",
       "4        -57.417650            -57.417650            -57.417650 -57.417650   \n",
       "..              ...                   ...                   ...        ...   \n",
       "665       -7.007001             -7.007001             -7.007001  -7.007001   \n",
       "666      -38.338190            -38.338190            -38.338190 -38.338190   \n",
       "667      -57.417650            -57.417650            -57.417650 -57.417650   \n",
       "668       53.517763             53.517763             53.517763  53.517763   \n",
       "669       40.301826             40.301826             40.301826  40.301826   \n",
       "\n",
       "     weekly_lower  weekly_upper  multiplicative_terms  \\\n",
       "0      -41.141619    -41.141619                   0.0   \n",
       "1       50.084871     50.084871                   0.0   \n",
       "2       -7.007001     -7.007001                   0.0   \n",
       "3      -38.338190    -38.338190                   0.0   \n",
       "4      -57.417650    -57.417650                   0.0   \n",
       "..            ...           ...                   ...   \n",
       "665     -7.007001     -7.007001                   0.0   \n",
       "666    -38.338190    -38.338190                   0.0   \n",
       "667    -57.417650    -57.417650                   0.0   \n",
       "668     53.517763     53.517763                   0.0   \n",
       "669     40.301826     40.301826                   0.0   \n",
       "\n",
       "     multiplicative_terms_lower  multiplicative_terms_upper        yhat  \n",
       "0                           0.0                         0.0   43.830549  \n",
       "1                           0.0                         0.0  135.022422  \n",
       "2                           0.0                         0.0   77.895933  \n",
       "3                           0.0                         0.0   46.530127  \n",
       "4                           0.0                         0.0   27.416050  \n",
       "..                          ...                         ...         ...  \n",
       "665                         0.0                         0.0   70.756453  \n",
       "666                         0.0                         0.0   39.435851  \n",
       "667                         0.0                         0.0   20.366978  \n",
       "668                         0.0                         0.0  131.312978  \n",
       "669                         0.0                         0.0  118.107628  \n",
       "\n",
       "[670 rows x 16 columns]"
      ]
     },
     "execution_count": 148,
     "metadata": {},
     "output_type": "execute_result"
    }
   ],
   "source": [
    "forecast"
   ]
  },
  {
   "cell_type": "code",
   "execution_count": 149,
   "metadata": {},
   "outputs": [],
   "source": [
    "yy=forecast['yhat']"
   ]
  },
  {
   "cell_type": "code",
   "execution_count": 150,
   "metadata": {},
   "outputs": [],
   "source": [
    "xx=forecast['ds']"
   ]
  },
  {
   "cell_type": "code",
   "execution_count": 151,
   "metadata": {},
   "outputs": [],
   "source": [
    "import matplotlib.pyplot as plt\n",
    "%matplotlib qt"
   ]
  },
  {
   "cell_type": "code",
   "execution_count": null,
   "metadata": {},
   "outputs": [],
   "source": []
  },
  {
   "cell_type": "code",
   "execution_count": 152,
   "metadata": {},
   "outputs": [
    {
     "data": {
      "text/plain": [
       "[<matplotlib.lines.Line2D at 0x20816091508>]"
      ]
     },
     "execution_count": 152,
     "metadata": {},
     "output_type": "execute_result"
    }
   ],
   "source": [
    "plt.plot(xx,yy)"
   ]
  },
  {
   "cell_type": "code",
   "execution_count": 153,
   "metadata": {},
   "outputs": [],
   "source": [
    "# m.plot(forecast)\n",
    "# plt.xlim('2020-1-2','2020-4-29')"
   ]
  },
  {
   "cell_type": "code",
   "execution_count": 154,
   "metadata": {},
   "outputs": [],
   "source": [
    "tt = forecast[['ds','yhat']]"
   ]
  },
  {
   "cell_type": "code",
   "execution_count": 155,
   "metadata": {},
   "outputs": [
    {
     "data": {
      "image/png": "[encoded data removed]",
      "text/plain": [
       "<Figure size 648x432 with 2 Axes>"
      ]
     },
     "execution_count": 155,
     "metadata": {},
     "output_type": "execute_result"
    }
   ],
   "source": [
    "m.plot_components(forecast)"
   ]
  },
  {
   "cell_type": "code",
   "execution_count": 161,
   "metadata": {},
   "outputs": [
    {
     "name": "stderr",
     "output_type": "stream",
     "text": [
      "INFO:fbprophet:Making 10 forecasts with cutoffs between 2018-08-03 00:00:00 and 2019-04-30 00:00:00\n",
      "INFO:fbprophet:n_changepoints greater than number of observations. Using 8.\n"
     ]
    },
    {
     "data": {
      "text/html": [
       "<div>\n",
       "<style scoped>\n",
       "    .dataframe tbody tr th:only-of-type {\n",
       "        vertical-align: middle;\n",
       "    }\n",
       "\n",
       "    .dataframe tbody tr th {\n",
       "        vertical-align: top;\n",
       "    }\n",
       "\n",
       "    .dataframe thead th {\n",
       "        text-align: right;\n",
       "    }\n",
       "</style>\n",
       "<table border=\"1\" class=\"dataframe\">\n",
       "  <thead>\n",
       "    <tr style=\"text-align: right;\">\n",
       "      <th></th>\n",
       "      <th>ds</th>\n",
       "      <th>yhat</th>\n",
       "      <th>yhat_lower</th>\n",
       "      <th>yhat_upper</th>\n",
       "      <th>y</th>\n",
       "      <th>cutoff</th>\n",
       "    </tr>\n",
       "  </thead>\n",
       "  <tbody>\n",
       "    <tr>\n",
       "      <th>0</th>\n",
       "      <td>2018-08-04</td>\n",
       "      <td>25.806696</td>\n",
       "      <td>-74.690900</td>\n",
       "      <td>112.244439</td>\n",
       "      <td>80</td>\n",
       "      <td>2018-08-03</td>\n",
       "    </tr>\n",
       "    <tr>\n",
       "      <th>1</th>\n",
       "      <td>2018-08-05</td>\n",
       "      <td>96.409612</td>\n",
       "      <td>4.966499</td>\n",
       "      <td>187.618975</td>\n",
       "      <td>61</td>\n",
       "      <td>2018-08-03</td>\n",
       "    </tr>\n",
       "    <tr>\n",
       "      <th>2</th>\n",
       "      <td>2018-08-06</td>\n",
       "      <td>-14.530921</td>\n",
       "      <td>-111.373755</td>\n",
       "      <td>71.221358</td>\n",
       "      <td>19</td>\n",
       "      <td>2018-08-03</td>\n",
       "    </tr>\n",
       "    <tr>\n",
       "      <th>3</th>\n",
       "      <td>2018-08-07</td>\n",
       "      <td>131.161087</td>\n",
       "      <td>41.401060</td>\n",
       "      <td>220.455265</td>\n",
       "      <td>233</td>\n",
       "      <td>2018-08-03</td>\n",
       "    </tr>\n",
       "    <tr>\n",
       "      <th>4</th>\n",
       "      <td>2018-08-08</td>\n",
       "      <td>131.155975</td>\n",
       "      <td>40.551131</td>\n",
       "      <td>215.117861</td>\n",
       "      <td>92</td>\n",
       "      <td>2018-08-03</td>\n",
       "    </tr>\n",
       "  </tbody>\n",
       "</table>\n",
       "</div>"
      ],
      "text/plain": [
       "          ds        yhat  yhat_lower  yhat_upper    y     cutoff\n",
       "0 2018-08-04   25.806696  -74.690900  112.244439   80 2018-08-03\n",
       "1 2018-08-05   96.409612    4.966499  187.618975   61 2018-08-03\n",
       "2 2018-08-06  -14.530921 -111.373755   71.221358   19 2018-08-03\n",
       "3 2018-08-07  131.161087   41.401060  220.455265  233 2018-08-03\n",
       "4 2018-08-08  131.155975   40.551131  215.117861   92 2018-08-03"
      ]
     },
     "execution_count": 161,
     "metadata": {},
     "output_type": "execute_result"
    }
   ],
   "source": [
    "from fbprophet.diagnostics import cross_validation\n",
    "df_cv = cross_validation(m, initial='7 days', period='30 days', horizon = '365 days')\n",
    "df_cv.head()"
   ]
  },
  {
   "cell_type": "code",
   "execution_count": 162,
   "metadata": {},
   "outputs": [
    {
     "name": "stderr",
     "output_type": "stream",
     "text": [
      "INFO:fbprophet:Skipping MAPE because y close to 0\n"
     ]
    },
    {
     "data": {
      "text/html": [
       "<div>\n",
       "<style scoped>\n",
       "    .dataframe tbody tr th:only-of-type {\n",
       "        vertical-align: middle;\n",
       "    }\n",
       "\n",
       "    .dataframe tbody tr th {\n",
       "        vertical-align: top;\n",
       "    }\n",
       "\n",
       "    .dataframe thead th {\n",
       "        text-align: right;\n",
       "    }\n",
       "</style>\n",
       "<table border=\"1\" class=\"dataframe\">\n",
       "  <thead>\n",
       "    <tr style=\"text-align: right;\">\n",
       "      <th></th>\n",
       "      <th>horizon</th>\n",
       "      <th>mse</th>\n",
       "      <th>rmse</th>\n",
       "      <th>mae</th>\n",
       "      <th>mdape</th>\n",
       "      <th>coverage</th>\n",
       "    </tr>\n",
       "  </thead>\n",
       "  <tbody>\n",
       "    <tr>\n",
       "      <th>0</th>\n",
       "      <td>35 days</td>\n",
       "      <td>5258.589695</td>\n",
       "      <td>72.516134</td>\n",
       "      <td>50.142698</td>\n",
       "      <td>0.557614</td>\n",
       "      <td>0.772334</td>\n",
       "    </tr>\n",
       "    <tr>\n",
       "      <th>1</th>\n",
       "      <td>36 days</td>\n",
       "      <td>5305.262001</td>\n",
       "      <td>72.837229</td>\n",
       "      <td>50.387827</td>\n",
       "      <td>0.559117</td>\n",
       "      <td>0.772911</td>\n",
       "    </tr>\n",
       "    <tr>\n",
       "      <th>2</th>\n",
       "      <td>37 days</td>\n",
       "      <td>5325.336499</td>\n",
       "      <td>72.974903</td>\n",
       "      <td>50.454058</td>\n",
       "      <td>0.557614</td>\n",
       "      <td>0.769741</td>\n",
       "    </tr>\n",
       "    <tr>\n",
       "      <th>3</th>\n",
       "      <td>38 days</td>\n",
       "      <td>5533.477153</td>\n",
       "      <td>74.387345</td>\n",
       "      <td>51.349645</td>\n",
       "      <td>0.559117</td>\n",
       "      <td>0.767435</td>\n",
       "    </tr>\n",
       "    <tr>\n",
       "      <th>4</th>\n",
       "      <td>39 days</td>\n",
       "      <td>5843.500658</td>\n",
       "      <td>76.442793</td>\n",
       "      <td>52.348583</td>\n",
       "      <td>0.584353</td>\n",
       "      <td>0.763689</td>\n",
       "    </tr>\n",
       "  </tbody>\n",
       "</table>\n",
       "</div>"
      ],
      "text/plain": [
       "  horizon          mse       rmse        mae     mdape  coverage\n",
       "0 35 days  5258.589695  72.516134  50.142698  0.557614  0.772334\n",
       "1 36 days  5305.262001  72.837229  50.387827  0.559117  0.772911\n",
       "2 37 days  5325.336499  72.974903  50.454058  0.557614  0.769741\n",
       "3 38 days  5533.477153  74.387345  51.349645  0.559117  0.767435\n",
       "4 39 days  5843.500658  76.442793  52.348583  0.584353  0.763689"
      ]
     },
     "execution_count": 162,
     "metadata": {},
     "output_type": "execute_result"
    }
   ],
   "source": [
    "from fbprophet.diagnostics import performance_metrics\n",
    "df_p = performance_metrics(df_cv)\n",
    "df_p.head()"
   ]
  },
  {
   "cell_type": "code",
   "execution_count": 105,
   "metadata": {},
   "outputs": [
    {
     "data": {
      "text/plain": [
       "1340"
      ]
     },
     "execution_count": 105,
     "metadata": {},
     "output_type": "execute_result"
    }
   ],
   "source": [
    "len(df2)"
   ]
  },
  {
   "cell_type": "code",
   "execution_count": 106,
   "metadata": {},
   "outputs": [],
   "source": [
    "train = df2[:1000]\n",
    "test = df2[1000:]"
   ]
  },
  {
   "cell_type": "code",
   "execution_count": 110,
   "metadata": {},
   "outputs": [
    {
     "data": {
      "text/html": [
       "<div>\n",
       "<style scoped>\n",
       "    .dataframe tbody tr th:only-of-type {\n",
       "        vertical-align: middle;\n",
       "    }\n",
       "\n",
       "    .dataframe tbody tr th {\n",
       "        vertical-align: top;\n",
       "    }\n",
       "\n",
       "    .dataframe thead th {\n",
       "        text-align: right;\n",
       "    }\n",
       "</style>\n",
       "<table border=\"1\" class=\"dataframe\">\n",
       "  <thead>\n",
       "    <tr style=\"text-align: right;\">\n",
       "      <th></th>\n",
       "      <th>ds</th>\n",
       "      <th>y</th>\n",
       "    </tr>\n",
       "  </thead>\n",
       "  <tbody>\n",
       "    <tr>\n",
       "      <th>1335</th>\n",
       "      <td>2020-04-25</td>\n",
       "      <td>218</td>\n",
       "    </tr>\n",
       "    <tr>\n",
       "      <th>1336</th>\n",
       "      <td>2020-04-26</td>\n",
       "      <td>35</td>\n",
       "    </tr>\n",
       "    <tr>\n",
       "      <th>1337</th>\n",
       "      <td>2020-04-27</td>\n",
       "      <td>49</td>\n",
       "    </tr>\n",
       "    <tr>\n",
       "      <th>1338</th>\n",
       "      <td>2020-04-28</td>\n",
       "      <td>206</td>\n",
       "    </tr>\n",
       "    <tr>\n",
       "      <th>1339</th>\n",
       "      <td>2020-04-29</td>\n",
       "      <td>50</td>\n",
       "    </tr>\n",
       "  </tbody>\n",
       "</table>\n",
       "</div>"
      ],
      "text/plain": [
       "             ds    y\n",
       "1335 2020-04-25  218\n",
       "1336 2020-04-26   35\n",
       "1337 2020-04-27   49\n",
       "1338 2020-04-28  206\n",
       "1339 2020-04-29   50"
      ]
     },
     "execution_count": 110,
     "metadata": {},
     "output_type": "execute_result"
    }
   ],
   "source": [
    "test.tail()"
   ]
  },
  {
   "cell_type": "code",
   "execution_count": 112,
   "metadata": {},
   "outputs": [
    {
     "data": {
      "text/plain": [
       "<matplotlib.axes._subplots.AxesSubplot at 0x20812a25548>"
      ]
     },
     "execution_count": 112,
     "metadata": {},
     "output_type": "execute_result"
    }
   ],
   "source": [
    "ax = forecast.plot(x='ds',y='yhat',label='Prophet',legend=True)\n",
    "test.plot(x='ds',y='y',label='true vs prediction',legend=True,ax=ax,xlim=('2020-03-29','2020-05-29'))"
   ]
  },
  {
   "cell_type": "code",
   "execution_count": 113,
   "metadata": {},
   "outputs": [
    {
     "ename": "NameError",
     "evalue": "name 'prediciotns' is not defined",
     "output_type": "error",
     "traceback": [
      "\u001b[1;31m---------------------------------------------------------------------------\u001b[0m",
      "\u001b[1;31mNameError\u001b[0m                                 Traceback (most recent call last)",
      "\u001b[1;32m<ipython-input-113-3ff9bc402363>\u001b[0m in \u001b[0;36m<module>\u001b[1;34m\u001b[0m\n\u001b[1;32m----> 1\u001b[1;33m \u001b[0mprediciotns\u001b[0m\u001b[1;33m\u001b[0m\u001b[1;33m\u001b[0m\u001b[0m\n\u001b[0m",
      "\u001b[1;31mNameError\u001b[0m: name 'prediciotns' is not defined"
     ]
    }
   ],
   "source": [
    "prediciotns"
   ]
  },
  {
   "cell_type": "code",
   "execution_count": 114,
   "metadata": {},
   "outputs": [],
   "source": [
    "from statsmodels.tools.eval_measures import rmse"
   ]
  },
  {
   "cell_type": "code",
   "execution_count": 121,
   "metadata": {},
   "outputs": [],
   "source": [
    "predictions = forecast.iloc[-12:]['yhat']"
   ]
  },
  {
   "cell_type": "code",
   "execution_count": 122,
   "metadata": {},
   "outputs": [
    {
     "data": {
      "text/plain": [
       "1388     86.928038\n",
       "1389     31.255965\n",
       "1390     30.483727\n",
       "1391    136.303070\n",
       "1392    108.232119\n",
       "1393     29.444960\n",
       "1394    152.201545\n",
       "1395     90.897266\n",
       "1396     33.858813\n",
       "1397     31.623731\n",
       "1398    135.920448\n",
       "1399    106.305942\n",
       "Name: yhat, dtype: float64"
      ]
     },
     "execution_count": 122,
     "metadata": {},
     "output_type": "execute_result"
    }
   ],
   "source": [
    "predictions"
   ]
  },
  {
   "cell_type": "code",
   "execution_count": 128,
   "metadata": {},
   "outputs": [
    {
     "data": {
      "text/plain": [
       "(12, 340)"
      ]
     },
     "execution_count": 128,
     "metadata": {},
     "output_type": "execute_result"
    }
   ],
   "source": [
    "len(predictions),len(test['y'])"
   ]
  },
  {
   "cell_type": "code",
   "execution_count": 129,
   "metadata": {},
   "outputs": [
    {
     "data": {
      "text/plain": [
       "54.837938028162114"
      ]
     },
     "execution_count": 129,
     "metadata": {},
     "output_type": "execute_result"
    }
   ],
   "source": [
    "rmse(predictions,test['y'][:12])"
   ]
  },
  {
   "cell_type": "code",
   "execution_count": 130,
   "metadata": {},
   "outputs": [
    {
     "data": {
      "text/plain": [
       "74.25"
      ]
     },
     "execution_count": 130,
     "metadata": {},
     "output_type": "execute_result"
    }
   ],
   "source": [
    "test['y'][:12].mean()"
   ]
  },
  {
   "cell_type": "code",
   "execution_count": 132,
   "metadata": {},
   "outputs": [
    {
     "data": {
      "text/plain": [
       "[<matplotlib.lines.Line2D at 0x20814763a48>]"
      ]
     },
     "execution_count": 132,
     "metadata": {},
     "output_type": "execute_result"
    }
   ],
   "source": [
    "plt.plot(predictions)\n",
    "plt.plot(test['y'][:12])"
   ]
  },
  {
   "cell_type": "code",
   "execution_count": null,
   "metadata": {},
   "outputs": [],
   "source": []
  }
 ],
 "metadata": {
  "kernelspec": {
   "display_name": "Python 3",
   "language": "python",
   "name": "python3"
  },
  "language_info": {
   "codemirror_mode": {
    "name": "ipython",
    "version": 3
   },
   "file_extension": ".py",
   "mimetype": "text/x-python",
   "name": "python",
   "nbconvert_exporter": "python",
   "pygments_lexer": "ipython3",
   "version": "3.7.4"
  }
 },
 "nbformat": 4,
 "nbformat_minor": 4
}
